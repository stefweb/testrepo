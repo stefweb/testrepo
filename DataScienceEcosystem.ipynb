{
 "cells": [
  {
   "cell_type": "markdown",
   "id": "5cc56694-e165-4174-ba76-2639c108e437",
   "metadata": {
    "tags": []
   },
   "source": [
    "# Data Science Tools and Ecosystem"
   ]
  },
  {
   "cell_type": "markdown",
   "id": "ccd519e4-a9e7-4b0c-a39a-3ec4b8253b9c",
   "metadata": {},
   "source": [
    "In this notebook, Data Science Tools and Ecosystem are summarized."
   ]
  },
  {
   "cell_type": "markdown",
   "id": "41522051-c667-49fa-942f-5b0519612a5c",
   "metadata": {
    "tags": []
   },
   "source": [
    "__Objectives:__\n",
    "- List popular languages for data scientists\n",
    "- List commonly used libraries for data scientists\n",
    "- List commonly used data science tools\n"
   ]
  },
  {
   "cell_type": "markdown",
   "id": "3bde1e00-60dc-43d5-883d-a858201a97a0",
   "metadata": {},
   "source": [
    "Some of the popular languages that data scientists use include:\n",
    "1. Python\n",
    "2. R\n",
    "3. C++\n",
    "4. SQL"
   ]
  },
  {
   "cell_type": "markdown",
   "id": "c5276631-e738-45c1-bdef-2ddcf9a9c87b",
   "metadata": {},
   "source": [
    "Some of the commonly used libraries by data scientists include:\n",
    "1. Pandas\n",
    "2. numpy\n",
    "3. ggplot2\n",
    "4. mathplotlib"
   ]
  },
  {
   "cell_type": "markdown",
   "id": "b99701e7-cc5c-4fd4-be04-c8448cb19c01",
   "metadata": {},
   "source": [
    "|Data Science Tools |\n",
    "|---|\n",
    "|R Studio |\n",
    "|Anaconda |\n",
    "|Jupyter Notebook |"
   ]
  },
  {
   "cell_type": "markdown",
   "id": "0c49a06b-2be2-4616-a45c-290b5ad083d1",
   "metadata": {
    "tags": []
   },
   "source": [
    "### Below are a few examples of evaluating arithmetic expressions in Python:"
   ]
  },
  {
   "cell_type": "code",
   "execution_count": 3,
   "id": "3b1f19dc-fce4-4f8c-a1a1-f8934c87de35",
   "metadata": {
    "tags": []
   },
   "outputs": [
    {
     "data": {
      "text/plain": [
       "17"
      ]
     },
     "execution_count": 3,
     "metadata": {},
     "output_type": "execute_result"
    }
   ],
   "source": [
    "# This is a simple arithmetic expression to multiply and then add integers\n",
    "(3*4)+5"
   ]
  },
  {
   "cell_type": "code",
   "execution_count": 6,
   "id": "7ad93400-ba16-4fa9-8d5e-2b9bb715f991",
   "metadata": {
    "tags": []
   },
   "outputs": [
    {
     "data": {
      "text/plain": [
       "3.3333333333333335"
      ]
     },
     "execution_count": 6,
     "metadata": {},
     "output_type": "execute_result"
    }
   ],
   "source": [
    "# This will convert 200 minutes into hours by dividing it by 60\n",
    "200 / 60"
   ]
  },
  {
   "cell_type": "markdown",
   "id": "566661e0-f3ac-403e-acc4-5e6318cb1d35",
   "metadata": {},
   "source": [
    "## Author\n",
    "Stefan Weber"
   ]
  },
  {
   "cell_type": "code",
   "execution_count": null,
   "id": "c78652d7-487f-4a2f-a93b-3813312ef87d",
   "metadata": {},
   "outputs": [],
   "source": []
  }
 ],
 "metadata": {
  "kernelspec": {
   "display_name": "Python",
   "language": "python",
   "name": "conda-env-python-py"
  },
  "language_info": {
   "codemirror_mode": {
    "name": "ipython",
    "version": 3
   },
   "file_extension": ".py",
   "mimetype": "text/x-python",
   "name": "python",
   "nbconvert_exporter": "python",
   "pygments_lexer": "ipython3",
   "version": "3.7.12"
  }
 },
 "nbformat": 4,
 "nbformat_minor": 5
}
