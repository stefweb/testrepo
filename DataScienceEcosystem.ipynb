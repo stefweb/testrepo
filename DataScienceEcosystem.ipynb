{
 "cells": [
  {
   "cell_type": "markdown",
   "id": "53ac8fc3-236c-40de-8c92-32737f8588d1",
   "metadata": {},
   "source": [
    "# Data Science Tools and Ecosystem"
   ]
  },
  {
   "cell_type": "markdown",
   "id": "89cbfca0-b495-480e-9ff2-58fb84db97e3",
   "metadata": {},
   "source": [
    "In this notebook, Data Science Tools and Ecosystem are summarized."
   ]
  },
  {
   "cell_type": "markdown",
   "id": "b71e6f22-3812-4d8d-b61e-6bbc82edcfc8",
   "metadata": {
    "tags": []
   },
   "source": [
    "__Objectives:__\n",
    "- List popular languages for data scientists\n",
    "- List commonly used libraries for data scientists\n",
    "- List commonly used data science tools"
   ]
  },
  {
   "cell_type": "markdown",
   "id": "7fa6d237-d166-4d3c-9f58-86cde3f80bbb",
   "metadata": {
    "tags": []
   },
   "source": [
    "Some of the popular languages that data scientists use include:\n",
    "1. Python\n",
    "2. R\n",
    "3. C++"
   ]
  },
  {
   "cell_type": "markdown",
   "id": "bd4cb197-f9f7-4a6d-b0d4-809e45ea637d",
   "metadata": {},
   "source": [
    "Some of the commonly used libraries by data scientists include:\n",
    "1. Pandas\n",
    "2. numpy\n",
    "3. ggplot\n"
   ]
  },
  {
   "cell_type": "markdown",
   "id": "2a4b62b5-f02d-40fd-8d73-178c89cf48fd",
   "metadata": {},
   "source": [
    "|Data Science Tools |\n",
    "|---|\n",
    "|Visual Studio |\n",
    "|Git |\n",
    "|Eclipse IDE |"
   ]
  },
  {
   "cell_type": "markdown",
   "id": "5355550d-95f0-456e-b11d-c4aa5124e1d5",
   "metadata": {
    "tags": []
   },
   "source": [
    "### Below are a few examples of evaluating arithmetic expressions in Python:"
   ]
  },
  {
   "cell_type": "code",
   "execution_count": 3,
   "id": "1e658c3f-5fc9-4c8f-934a-38c33e89e12a",
   "metadata": {
    "tags": []
   },
   "outputs": [
    {
     "data": {
      "text/plain": [
       "17"
      ]
     },
     "execution_count": 3,
     "metadata": {},
     "output_type": "execute_result"
    }
   ],
   "source": [
    "# This is a simple arithmetic expression to multiply and then add integers\n",
    "(3*4)+5"
   ]
  },
  {
   "cell_type": "code",
   "execution_count": 4,
   "id": "ba626e2e-7370-4a81-b537-eb006f225eb9",
   "metadata": {
    "tags": []
   },
   "outputs": [
    {
     "data": {
      "text/plain": [
       "3.3333333333333335"
      ]
     },
     "execution_count": 4,
     "metadata": {},
     "output_type": "execute_result"
    }
   ],
   "source": [
    "# This will convert 200 minutes into hours by dividing it by 60\n",
    "200 / 60"
   ]
  },
  {
   "cell_type": "markdown",
   "id": "99d7b2ed-e1af-4a84-b153-fcf51262cd28",
   "metadata": {},
   "source": [
    "## Author\n",
    "Stefan Weber"
   ]
  },
  {
   "cell_type": "code",
   "execution_count": null,
   "id": "dd0cb3bf-923f-4f60-a69e-c80667daaa78",
   "metadata": {},
   "outputs": [],
   "source": []
  }
 ],
 "metadata": {
  "kernelspec": {
   "display_name": "Python",
   "language": "python",
   "name": "conda-env-python-py"
  },
  "language_info": {
   "codemirror_mode": {
    "name": "ipython",
    "version": 3
   },
   "file_extension": ".py",
   "mimetype": "text/x-python",
   "name": "python",
   "nbconvert_exporter": "python",
   "pygments_lexer": "ipython3",
   "version": "3.7.12"
  }
 },
 "nbformat": 4,
 "nbformat_minor": 5
}
